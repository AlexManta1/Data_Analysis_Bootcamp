{
 "cells": [
  {
   "cell_type": "code",
   "execution_count": null,
   "id": "8fd971dd",
   "metadata": {},
   "outputs": [],
   "source": [
    "#Assessment - Filtering Data"
   ]
  },
  {
   "cell_type": "code",
   "execution_count": 1,
   "id": "f3c908ed",
   "metadata": {},
   "outputs": [],
   "source": [
    "import pandas as pd"
   ]
  },
  {
   "cell_type": "code",
   "execution_count": 2,
   "id": "6b1934c0",
   "metadata": {},
   "outputs": [],
   "source": [
    "df = pd.read_csv('data/titanic.csv')"
   ]
  },
  {
   "cell_type": "code",
   "execution_count": 10,
   "id": "054ee7be",
   "metadata": {},
   "outputs": [],
   "source": [
    "df.head()"
   ]
  },
  {
   "cell_type": "code",
   "execution_count": 18,
   "id": "f5c021e6",
   "metadata": {},
   "outputs": [],
   "source": [
    "#How many females survived?\n",
    "\n",
    "mask_female = df['sex']=='female'\n",
    "mask_survived = df['survived'] ==1\n",
    "females_survived = len(df[mask_female & mask_survived])\n",
    "females_survived"
   ]
  },
  {
   "cell_type": "code",
   "execution_count": 19,
   "id": "ef1c47ca",
   "metadata": {},
   "outputs": [],
   "source": [
    "#How many males from southhampton were in first class?\n",
    "\n",
    "mask_male = df['sex']=='male'\n",
    "mask_embark_town = df['embark_town'] == 'Southampton'\n",
    "mask_class = df['class']== 'First'\n",
    "first_class = len(df[mask_male & mask_embark_town & mask_class])\n",
    "first_class"
   ]
  },
  {
   "cell_type": "code",
   "execution_count": 22,
   "id": "cc791812",
   "metadata": {},
   "outputs": [],
   "source": [
    "#How many people paid above 70 and came from cherbourg?\n",
    "\n",
    "mask_embark_town = df['embark_town'] == 'Cherbourg'\n",
    "mask_fare = df['fare'] > 70\n",
    "people_over70 = len(df[mask_embark_town & mask_fare])\n",
    "people_over70"
   ]
  },
  {
   "cell_type": "code",
   "execution_count": 26,
   "id": "e03dfb33",
   "metadata": {},
   "outputs": [],
   "source": [
    "#How many people younger than 30 traveled alone?\n",
    "\n",
    "mask_travel = df['alone'] == True\n",
    "mask_age = df['age'] < 30\n",
    "youngsters = len(df[mask_travel & mask_age])\n",
    "youngsters"
   ]
  }
 ],
 "metadata": {
  "kernelspec": {
   "display_name": "Python 3 (ipykernel)",
   "language": "python",
   "name": "python3"
  },
  "language_info": {
   "codemirror_mode": {
    "name": "ipython",
    "version": 3
   },
   "file_extension": ".py",
   "mimetype": "text/x-python",
   "name": "python",
   "nbconvert_exporter": "python",
   "pygments_lexer": "ipython3",
   "version": "3.11.7"
  }
 },
 "nbformat": 4,
 "nbformat_minor": 5
}
